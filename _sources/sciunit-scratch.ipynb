{
 "cells": [
  {
   "cell_type": "code",
   "execution_count": 1,
   "metadata": {},
   "outputs": [],
   "source": [
    "import sys\n",
    "sys.path.insert(0, '/home/rgerkin/Dropbox/dev/quantities')\n",
    "import numpy as np\n",
    "import quantities as pq\n",
    "import pandas as pd\n",
    "from sciunit.unit_test.base import SuiteBase\n",
    "from sciunit import ScoreMatrix, ScoreArray\n",
    "sb = SuiteBase()\n",
    "sb.setUp()\n",
    "ts, t1, t2, m1, m2 = sb.prep_models_and_tests()"
   ]
  },
  {
   "cell_type": "code",
   "execution_count": 2,
   "metadata": {},
   "outputs": [
    {
     "data": {
      "text/plain": [
       "(array(1.) * V, [array(1.) * V], [array(1.) * V, array(2.) * V, array(3.) * V])"
      ]
     },
     "execution_count": 2,
     "metadata": {},
     "output_type": "execute_result"
    }
   ],
   "source": [
    "(np.array(1)*pq.V).tolist(), (np.array([1])*pq.V).tolist(), (np.array([1, 2, 3])*pq.V).tolist()"
   ]
  },
  {
   "cell_type": "code",
   "execution_count": 3,
   "metadata": {},
   "outputs": [
    {
     "name": "stdout",
     "output_type": "stream",
     "text": [
      "/home/rgerkin/Dropbox/dev/quantities/quantities/__init__.py\n"
     ]
    },
    {
     "data": {
      "text/plain": [
       "'{\"_class\": {\"name\": \"TestSuite\", \"import_path\": \"sciunit.suites.TestSuite\", \"url\": \"http://github.com/scidash/sciunit\"}, \"_id\": 139902864364496, \"_url\": null, \"add_props\": false, \"description\": null, \"hooks\": null, \"id\": \"<bound method SciUnit.json of <sciunit.suites.TestSuite object at 0x7f3dac8893d0>>\", \"include_models\": [], \"name\": \"RangeSuite\", \"properties\": {\"remote_url\": \"http://github.com/scidash/sciunit\", \"_id\": 139902864364496, \"url\": \"http://github.com/scidash/sciunit\", \"version\": \"4454dcaa86a33bd4615f6c0f56921bcd19cdea53*\", \"weights\": [0.25, 0.25, 0.25, 0.25], \"_class\": {\"name\": \"TestSuite\", \"import_path\": \"sciunit.suites.TestSuite\", \"url\": \"http://github.com/scidash/sciunit\"}, \"hash\": \"cf844b79fdb6753cd1a760784c952715a809348be1d1fbf321150d3c\"}, \"remote_url\": \"http://github.com/scidash/sciunit\", \"skip_models\": [], \"tests\": [{\"_class\": {\"name\": \"RangeTest\", \"import_path\": \"sciunit.tests.RangeTest\", \"url\": \"http://github.com/scidash/sciunit\"}, \"_id\": 139902864364256, \"_url\": null, \"converter\": null, \"default_params\": {}, \"description\": \"Test if the model generates a number within a certain range.\", \"id\": \"<bound method SciUnit.json of <sciunit.tests.RangeTest object at 0x7f3dac8892e0>>\", \"name\": \"RangeTest\", \"observation\": [1, 4], \"observation_schema\": null, \"observation_validator\": \"sciunit.validators.ObservationValidator\", \"params\": {}, \"params_schema\": null, \"params_validator\": \"sciunit.validators.ParametersValidator\", \"properties\": {\"remote_url\": \"http://github.com/scidash/sciunit\", \"_id\": 139902864364256, \"url\": \"http://github.com/scidash/sciunit\", \"version\": \"4454dcaa86a33bd4615f6c0f56921bcd19cdea53*\", \"_class\": {\"name\": \"RangeTest\", \"import_path\": \"sciunit.tests.RangeTest\", \"url\": \"http://github.com/scidash/sciunit\"}, \"hash\": \"539730ab61c2e3e07e0cb532433806ec957b40a1f633fd090c931aec\"}, \"remote_url\": \"http://github.com/scidash/sciunit\", \"required_capabilities\": [\"sciunit.capabilities.ProducesNumber\"], \"score_type\": \"sciunit.scores.complete.BooleanScore\", \"units\": {\"base\": {\"dtype\": \"float64\", \"values\": 1.0}, \"shape\": [], \"dtype\": \"float64\", \"writeable\": false, \"values\": {\"base\": \"1.0\", \"units\": \"dimensionless\"}}, \"unpicklable\": [], \"url\": \"http://github.com/scidash/sciunit\", \"verbose\": 1, \"version\": \"4454dcaa86a33bd4615f6c0f56921bcd19cdea53*\", \"hash\": \"babdbd25bb4447648e4772a5711f9388c472d268c827c81c2947b01f\"}, {\"_class\": {\"name\": \"RangeTest\", \"import_path\": \"sciunit.tests.RangeTest\", \"url\": \"http://github.com/scidash/sciunit\"}, \"_id\": 139902864364304, \"_remote_url\": \"http://github.com/scidash/sciunit\", \"_repo\": {\"git_dir\": \"/home/rgerkin/Dropbox (ASU)/dev/scidash/sciunit/.git\", \"_working_tree_dir\": \"/home/rgerkin/Dropbox (ASU)/dev/scidash/sciunit\", \"_bare\": false, \"_common_dir\": null, \"working_dir\": \"/home/rgerkin/Dropbox (ASU)/dev/scidash/sciunit\", \"git\": {\"_working_dir\": \"/home/rgerkin/Dropbox (ASU)/dev/scidash/sciunit\", \"_git_options\": [], \"_persistent_git_options\": [], \"_environment\": {}}, \"odb\": {\"_ostream\": null, \"_root_path\": \"/home/rgerkin/Dropbox (ASU)/dev/scidash/sciunit/.git/objects\", \"_hexsha_to_file\": {}, \"_fd_open_flags\": 262144, \"_git\": {\"_working_dir\": \"/home/rgerkin/Dropbox (ASU)/dev/scidash/sciunit\", \"_git_options\": [], \"_persistent_git_options\": [], \"_environment\": {}}}}, \"_url\": null, \"_version\": \"4454dcaa86a33bd4615f6c0f56921bcd19cdea53*\", \"converter\": null, \"default_params\": {}, \"description\": \"Test if the model generates a number within a certain range.\", \"id\": \"<bound method SciUnit.json of <sciunit.tests.RangeTest object at 0x7f3dac889310>>\", \"name\": \"RangeTest\", \"observation\": [2, 5], \"observation_schema\": null, \"observation_validator\": \"sciunit.validators.ObservationValidator\", \"params\": {}, \"params_schema\": null, \"params_validator\": \"sciunit.validators.ParametersValidator\", \"properties\": {\"remote_url\": \"http://github.com/scidash/sciunit\", \"_id\": 139902864364304, \"url\": \"http://github.com/scidash/sciunit\", \"version\": \"4454dcaa86a33bd4615f6c0f56921bcd19cdea53*\", \"_class\": {\"name\": \"RangeTest\", \"import_path\": \"sciunit.tests.RangeTest\", \"url\": \"http://github.com/scidash/sciunit\"}, \"hash\": \"d988e53b41073f65cf9f48cba0667eb32159a7474bc264b60f9c5e1a\"}, \"remote_url\": \"http://github.com/scidash/sciunit\", \"required_capabilities\": [\"sciunit.capabilities.ProducesNumber\"], \"score_type\": \"sciunit.scores.complete.BooleanScore\", \"units\": {\"base\": {\"dtype\": \"float64\", \"values\": 1.0}, \"shape\": [], \"dtype\": \"float64\", \"writeable\": false, \"values\": {\"base\": \"1.0\", \"units\": \"dimensionless\"}}, \"unpicklable\": [], \"url\": \"http://github.com/scidash/sciunit\", \"verbose\": 1, \"version\": \"4454dcaa86a33bd4615f6c0f56921bcd19cdea53*\", \"hash\": \"b9fb008418d51c35dad066ff2e7d804292d493a2f89cfa63f67e96c2\"}, {\"_class\": {\"name\": \"RangeTest\", \"import_path\": \"sciunit.tests.RangeTest\", \"url\": \"http://github.com/scidash/sciunit\"}, \"_id\": 139902864364448, \"_remote_url\": \"http://github.com/scidash/sciunit\", \"_repo\": {\"git_dir\": \"/home/rgerkin/Dropbox (ASU)/dev/scidash/sciunit/.git\", \"_working_tree_dir\": \"/home/rgerkin/Dropbox (ASU)/dev/scidash/sciunit\", \"_bare\": false, \"_common_dir\": null, \"working_dir\": \"/home/rgerkin/Dropbox (ASU)/dev/scidash/sciunit\", \"git\": {\"_working_dir\": \"/home/rgerkin/Dropbox (ASU)/dev/scidash/sciunit\", \"_git_options\": [], \"_persistent_git_options\": [], \"_environment\": {}}, \"odb\": {\"_ostream\": null, \"_root_path\": \"/home/rgerkin/Dropbox (ASU)/dev/scidash/sciunit/.git/objects\", \"_hexsha_to_file\": {}, \"_fd_open_flags\": 262144, \"_git\": {\"_working_dir\": \"/home/rgerkin/Dropbox (ASU)/dev/scidash/sciunit\", \"_git_options\": [], \"_persistent_git_options\": [], \"_environment\": {}}}}, \"_url\": null, \"_version\": \"4454dcaa86a33bd4615f6c0f56921bcd19cdea53*\", \"converter\": null, \"default_params\": {}, \"description\": \"Test if the model generates a number within a certain range.\", \"id\": \"<bound method SciUnit.json of <sciunit.tests.RangeTest object at 0x7f3dac8893a0>>\", \"name\": \"RangeTest\", \"observation\": [3, 6], \"observation_schema\": null, \"observation_validator\": \"sciunit.validators.ObservationValidator\", \"params\": {}, \"params_schema\": null, \"params_validator\": \"sciunit.validators.ParametersValidator\", \"properties\": {\"remote_url\": \"http://github.com/scidash/sciunit\", \"_id\": 139902864364448, \"url\": \"http://github.com/scidash/sciunit\", \"version\": \"4454dcaa86a33bd4615f6c0f56921bcd19cdea53*\", \"_class\": {\"name\": \"RangeTest\", \"import_path\": \"sciunit.tests.RangeTest\", \"url\": \"http://github.com/scidash/sciunit\"}, \"hash\": \"79f54d9c6392d447c36298bf1e5b48cdae513e29466dc95f9c5f52bd\"}, \"remote_url\": \"http://github.com/scidash/sciunit\", \"required_capabilities\": [\"sciunit.capabilities.ProducesNumber\"], \"score_type\": \"sciunit.scores.complete.BooleanScore\", \"units\": {\"base\": {\"dtype\": \"float64\", \"values\": 1.0}, \"shape\": [], \"dtype\": \"float64\", \"writeable\": false, \"values\": {\"base\": \"1.0\", \"units\": \"dimensionless\"}}, \"unpicklable\": [], \"url\": \"http://github.com/scidash/sciunit\", \"verbose\": 1, \"version\": \"4454dcaa86a33bd4615f6c0f56921bcd19cdea53*\", \"hash\": \"a7090df0cd778fc5cd8ce1905c0a17b5d9335cffad53588f422a4c29\"}, {\"_class\": {\"name\": \"RangeTest\", \"import_path\": \"sciunit.tests.RangeTest\", \"url\": \"http://github.com/scidash/sciunit\"}, \"_id\": 139902864365744, \"_remote_url\": \"http://github.com/scidash/sciunit\", \"_repo\": {\"git_dir\": \"/home/rgerkin/Dropbox (ASU)/dev/scidash/sciunit/.git\", \"_working_tree_dir\": \"/home/rgerkin/Dropbox (ASU)/dev/scidash/sciunit\", \"_bare\": false, \"_common_dir\": null, \"working_dir\": \"/home/rgerkin/Dropbox (ASU)/dev/scidash/sciunit\", \"git\": {\"_working_dir\": \"/home/rgerkin/Dropbox (ASU)/dev/scidash/sciunit\", \"_git_options\": [], \"_persistent_git_options\": [], \"_environment\": {}}, \"odb\": {\"_ostream\": null, \"_root_path\": \"/home/rgerkin/Dropbox (ASU)/dev/scidash/sciunit/.git/objects\", \"_hexsha_to_file\": {}, \"_fd_open_flags\": 262144, \"_git\": {\"_working_dir\": \"/home/rgerkin/Dropbox (ASU)/dev/scidash/sciunit\", \"_git_options\": [], \"_persistent_git_options\": [], \"_environment\": {}}}}, \"_url\": null, \"_version\": \"4454dcaa86a33bd4615f6c0f56921bcd19cdea53*\", \"converter\": null, \"default_params\": {}, \"description\": \"Test if the model generates a number within a certain range.\", \"id\": \"<bound method SciUnit.json of <sciunit.tests.RangeTest object at 0x7f3dac8898b0>>\", \"name\": \"RangeTest\", \"observation\": [4, 7], \"observation_schema\": null, \"observation_validator\": \"sciunit.validators.ObservationValidator\", \"params\": {}, \"params_schema\": null, \"params_validator\": \"sciunit.validators.ParametersValidator\", \"properties\": {\"remote_url\": \"http://github.com/scidash/sciunit\", \"_id\": 139902864365744, \"url\": \"http://github.com/scidash/sciunit\", \"version\": \"4454dcaa86a33bd4615f6c0f56921bcd19cdea53*\", \"_class\": {\"name\": \"RangeTest\", \"import_path\": \"sciunit.tests.RangeTest\", \"url\": \"http://github.com/scidash/sciunit\"}, \"hash\": \"06853e303f6641730e9bd1f3aebfbeff2859f180310eb6440cf46340\"}, \"remote_url\": \"http://github.com/scidash/sciunit\", \"required_capabilities\": [\"sciunit.capabilities.ProducesNumber\"], \"score_type\": \"sciunit.scores.complete.BooleanScore\", \"units\": {\"base\": {\"dtype\": \"float64\", \"values\": 1.0}, \"shape\": [], \"dtype\": \"float64\", \"writeable\": false, \"values\": {\"base\": \"1.0\", \"units\": \"dimensionless\"}}, \"unpicklable\": [], \"url\": \"http://github.com/scidash/sciunit\", \"verbose\": 1, \"version\": \"4454dcaa86a33bd4615f6c0f56921bcd19cdea53*\", \"hash\": \"4f54eb048944a71e1d32386a907be5ae22786ac3f653c7ca21b081d5\"}], \"unpicklable\": [], \"url\": \"http://github.com/scidash/sciunit\", \"verbose\": 1, \"version\": \"4454dcaa86a33bd4615f6c0f56921bcd19cdea53*\", \"weights\": [0.25, 0.25, 0.25, 0.25], \"weights_\": [], \"hash\": \"8c8b0ff1ac6ad9ab40e211202b8a8040a57ce5515ce03ad0f199086d\"}'"
      ]
     },
     "execution_count": 3,
     "metadata": {},
     "output_type": "execute_result"
    }
   ],
   "source": [
    "from sciunit.tests import RangeTest\n",
    "from sciunit import TestSuite\n",
    "tests = [RangeTest(observation=(x, x + 3)) for x in [1, 2, 3, 4]]\n",
    "ts = TestSuite(tests, name=\"RangeSuite\")\n",
    "print(pq.__file__)\n",
    "ts.json(string=True)\n",
    "#isinstance(ts.json(string=True), str)"
   ]
  },
  {
   "cell_type": "code",
   "execution_count": 26,
   "metadata": {},
   "outputs": [
    {
     "data": {
      "text/plain": [
       "True"
      ]
     },
     "execution_count": 26,
     "metadata": {},
     "output_type": "execute_result"
    }
   ],
   "source": [
    "from neuronunit.tests.morphology \\\n",
    "import ApicalDendriteAverageBifurcationAngleRemoteTest as T\n",
    "isinstance(T.units, pq.Dimensionless)"
   ]
  },
  {
   "cell_type": "code",
   "execution_count": 18,
   "metadata": {},
   "outputs": [],
   "source": [
    "from sciunit.utils import memoize\n",
    "from random import randint\n",
    "@memoize\n",
    "def f(a):\n",
    "    return a + randint(0, 1000000)\n",
    "\n",
    "def g(a):\n",
    "    return a + randint(0, 1000000)\n",
    "        \n",
    "assert f(3) == f(3)\n",
    "assert g(3) != g(3)"
   ]
  },
  {
   "cell_type": "code",
   "execution_count": 3,
   "metadata": {},
   "outputs": [
    {
     "name": "stdout",
     "output_type": "stream",
     "text": [
      "\u001b[38;2;60;169;88mScore = Pass for UniformModel on test1\u001b[39m\n",
      "\u001b[38;2;230;78;52mScore = Fail for UniformModel on RangeTest\u001b[39m\n"
     ]
    }
   ],
   "source": [
    "s = t1.judge(m1)\n",
    "s.log()\n",
    "s = t2.judge(m1)\n",
    "s.log()"
   ]
  },
  {
   "cell_type": "code",
   "execution_count": 12,
   "metadata": {},
   "outputs": [
    {
     "ename": "AssertionError",
     "evalue": "",
     "output_type": "error",
     "traceback": [
      "\u001b[0;31m---------------------------------------------------------------------------\u001b[0m",
      "\u001b[0;31mAssertionError\u001b[0m                            Traceback (most recent call last)",
      "\u001b[0;32m<ipython-input-12-8bfd19f1925a>\u001b[0m in \u001b[0;36m<module>\u001b[0;34m\u001b[0m\n\u001b[1;32m      7\u001b[0m \u001b[0mfive\u001b[0m \u001b[0;34m=\u001b[0m \u001b[0mN\u001b[0m\u001b[0;34m(\u001b[0m\u001b[0;36m5\u001b[0m\u001b[0;34m)\u001b[0m\u001b[0;34m\u001b[0m\u001b[0;34m\u001b[0m\u001b[0m\n\u001b[1;32m      8\u001b[0m \u001b[0mfive2\u001b[0m \u001b[0;34m=\u001b[0m \u001b[0mN\u001b[0m\u001b[0;34m(\u001b[0m\u001b[0;36m5\u001b[0m\u001b[0;34m)\u001b[0m\u001b[0;34m\u001b[0m\u001b[0;34m\u001b[0m\u001b[0m\n\u001b[0;32m----> 9\u001b[0;31m \u001b[0;32massert\u001b[0m \u001b[0;34m(\u001b[0m\u001b[0mfive\u001b[0m \u001b[0;32mis\u001b[0m \u001b[0mfive2\u001b[0m\u001b[0;34m)\u001b[0m \u001b[0;32mis\u001b[0m \u001b[0;32mTrue\u001b[0m\u001b[0;34m\u001b[0m\u001b[0;34m\u001b[0m\u001b[0m\n\u001b[0m",
      "\u001b[0;31mAssertionError\u001b[0m: "
     ]
    }
   ],
   "source": [
    "from sciunit.utils import intern, class_intern\n",
    "\n",
    "class N:\n",
    "    def __init__(self, n):\n",
    "        self.n = n\n",
    "\n",
    "five = N(5)\n",
    "five2 = N(5)\n",
    "assert (five is five2) is True"
   ]
  },
  {
   "cell_type": "code",
   "execution_count": 8,
   "metadata": {},
   "outputs": [
    {
     "name": "stdout",
     "output_type": "stream",
     "text": [
      "\u001b[38;2;60;169;88mScore = Pass for UniformModel on test1\u001b[39m\n",
      "\u001b[38;2;230;78;52mScore = Fail for UniformModel on RangeTest\u001b[39m\n",
      "\u001b[38;2;230;78;52mScore = Fail for UniformModel on test1\u001b[39m\n",
      "\u001b[38;2;60;169;88mScore = Pass for UniformModel on RangeTest\u001b[39m\n"
     ]
    },
    {
     "data": {
      "text/html": [
       "<div>\n",
       "<style scoped>\n",
       "    .dataframe tbody tr th:only-of-type {\n",
       "        vertical-align: middle;\n",
       "    }\n",
       "\n",
       "    .dataframe tbody tr th {\n",
       "        vertical-align: top;\n",
       "    }\n",
       "\n",
       "    .dataframe thead th {\n",
       "        text-align: right;\n",
       "    }\n",
       "</style>\n",
       "<table border=\"1\" class=\"dataframe\">\n",
       "  <thead>\n",
       "    <tr style=\"text-align: right;\">\n",
       "      <th></th>\n",
       "      <th>test1</th>\n",
       "      <th>RangeTest</th>\n",
       "    </tr>\n",
       "  </thead>\n",
       "  <tbody>\n",
       "    <tr>\n",
       "      <th>UniformModel</th>\n",
       "      <td>Pass</td>\n",
       "      <td>Fail</td>\n",
       "    </tr>\n",
       "    <tr>\n",
       "      <th>UniformModel</th>\n",
       "      <td>Fail</td>\n",
       "      <td>Pass</td>\n",
       "    </tr>\n",
       "  </tbody>\n",
       "</table>\n",
       "</div>"
      ],
      "text/plain": [
       "             test1 RangeTest\n",
       "UniformModel  Pass      Fail\n",
       "UniformModel  Fail      Pass"
      ]
     },
     "execution_count": 8,
     "metadata": {},
     "output_type": "execute_result"
    }
   ],
   "source": [
    "ts.judge([m1, m2])"
   ]
  },
  {
   "cell_type": "code",
   "execution_count": 5,
   "metadata": {},
   "outputs": [
    {
     "name": "stdout",
     "output_type": "stream",
     "text": [
      "\u001b[38;2;230;78;52mThis is red text using 24bit colors.\u001b[39m\n"
     ]
    }
   ],
   "source": [
    "from sty import fg, bg, ef, rs\n",
    "qui = fg(230, 78, 52) + 'This is red text using 24bit colors.' + fg.rs\n",
    "print(qui)"
   ]
  },
  {
   "cell_type": "code",
   "execution_count": 15,
   "metadata": {},
   "outputs": [],
   "source": [
    "from sciunit.utils import config_set, config_get\n",
    "\n",
    "config_set('PREVALIDATE', True)\n",
    "assert config_get('PREVALIDATE') is True\n",
    "\n",
    "config_set('PREVALIDATE', False)\n",
    "assert config_get('PREVALIDATE') is False"
   ]
  },
  {
   "cell_type": "code",
   "execution_count": 16,
   "metadata": {},
   "outputs": [
    {
     "data": {
      "text/plain": [
       "{\"cmap_high\": 218, \"cmap_low\": 38, \"LOGGING\": 20, \"PREVALIDATE\": true, \"CWD\": \"/home/rgerkin/Dropbox (ASU)/dev/scidash/sciunit/sciunit\", \"sciunit_version\": \"0.2.2.3\"}"
      ]
     },
     "metadata": {},
     "output_type": "display_data"
    }
   ],
   "source": [
    "more /home/rgerkin/.sciunit/config.json"
   ]
  },
  {
   "cell_type": "code",
   "execution_count": 2,
   "metadata": {},
   "outputs": [
    {
     "name": "stdout",
     "output_type": "stream",
     "text": [
      "StaticBackend\n",
      "Getting Resting membrane potential data values from neuroelectro.org\n",
      "http://neuroelectro.org/api/1/nes/?nlex=nifext_50&e__name=Resting+membrane+potential\n"
     ]
    },
    {
     "data": {
      "text/plain": [
       "Relative Difference = 8.25"
      ]
     },
     "execution_count": 2,
     "metadata": {},
     "output_type": "execute_result"
    }
   ],
   "source": [
    "from sciunit.models import RunnableModel\n",
    "from sciunit.models.backends import Backend\n",
    "from sciunit.scores import RelativeDifferenceScore\n",
    "from neuronunit.models import RandomVmModel\n",
    "from neuronunit.tests import RestingPotentialTest\n",
    "from neuronunit.capabilities import ProducesMembranePotential, ReceivesCurrent\n",
    "from neo.core import AnalogSignal\n",
    "import numpy as np\n",
    "import quantities as pq\n",
    "\n",
    "    \n",
    "# Random production of a Vm, using a static backend\n",
    "model = RandomVmModel(name=\"Random\", backend=StaticBackend)\n",
    "\n",
    "# RestingPotentialTest for some neuron\n",
    "test_class = RestingPotentialTest\n",
    "observation = test_class.neuroelectro_summary_observation({'nlex_id': 'nifext_50'})\n",
    "test = test_class(observation=observation)\n",
    "\n",
    "# Change to RelativeDifferenceScore\n",
    "test.score_type = RelativeDifferenceScore\n",
    "\n",
    "# Judge the model and return the RelativeDifferenceScore\n",
    "test.judge(model)"
   ]
  },
  {
   "cell_type": "code",
   "execution_count": 2,
   "metadata": {},
   "outputs": [
    {
     "data": {
      "text/plain": [
       "Relative Difference = 8.26"
      ]
     },
     "execution_count": 2,
     "metadata": {},
     "output_type": "execute_result"
    }
   ],
   "source": []
  },
  {
   "cell_type": "code",
   "execution_count": 23,
   "metadata": {},
   "outputs": [
    {
     "ename": "KeyboardInterrupt",
     "evalue": "",
     "output_type": "error",
     "traceback": [
      "\u001b[0;31m---------------------------------------------------------------------------\u001b[0m",
      "\u001b[0;31mKeyboardInterrupt\u001b[0m                         Traceback (most recent call last)",
      "\u001b[0;32m<ipython-input-23-a8b8f2607ce6>\u001b[0m in \u001b[0;36m<module>\u001b[0;34m\u001b[0m\n\u001b[0;32m----> 1\u001b[0;31m \u001b[0mtest\u001b[0m\u001b[0;34m.\u001b[0m\u001b[0mjudge\u001b[0m\u001b[0;34m(\u001b[0m\u001b[0mmodel\u001b[0m\u001b[0;34m)\u001b[0m\u001b[0;34m\u001b[0m\u001b[0;34m\u001b[0m\u001b[0m\n\u001b[0m",
      "\u001b[0;32m~/Dropbox (ASU)/dev/scidash/sciunit/sciunit/tests.py\u001b[0m in \u001b[0;36mjudge\u001b[0;34m(self, model, skip_incapable, stop_on_error, deep_error)\u001b[0m\n\u001b[1;32m    423\u001b[0m         \u001b[0;32melse\u001b[0m\u001b[0;34m:\u001b[0m\u001b[0;34m\u001b[0m\u001b[0;34m\u001b[0m\u001b[0m\n\u001b[1;32m    424\u001b[0m             \u001b[0;32mtry\u001b[0m\u001b[0;34m:\u001b[0m\u001b[0;34m\u001b[0m\u001b[0;34m\u001b[0m\u001b[0m\n\u001b[0;32m--> 425\u001b[0;31m                 \u001b[0mscore\u001b[0m \u001b[0;34m=\u001b[0m \u001b[0mself\u001b[0m\u001b[0;34m.\u001b[0m\u001b[0m_judge\u001b[0m\u001b[0;34m(\u001b[0m\u001b[0mmodel\u001b[0m\u001b[0;34m,\u001b[0m \u001b[0mskip_incapable\u001b[0m\u001b[0;34m=\u001b[0m\u001b[0mskip_incapable\u001b[0m\u001b[0;34m)\u001b[0m\u001b[0;34m\u001b[0m\u001b[0;34m\u001b[0m\u001b[0m\n\u001b[0m\u001b[1;32m    426\u001b[0m             \u001b[0;32mexcept\u001b[0m \u001b[0mCapabilityError\u001b[0m \u001b[0;32mas\u001b[0m \u001b[0me\u001b[0m\u001b[0;34m:\u001b[0m\u001b[0;34m\u001b[0m\u001b[0;34m\u001b[0m\u001b[0m\n\u001b[1;32m    427\u001b[0m                 \u001b[0mscore\u001b[0m \u001b[0;34m=\u001b[0m \u001b[0mNAScore\u001b[0m\u001b[0;34m(\u001b[0m\u001b[0mstr\u001b[0m\u001b[0;34m(\u001b[0m\u001b[0me\u001b[0m\u001b[0;34m)\u001b[0m\u001b[0;34m)\u001b[0m\u001b[0;34m\u001b[0m\u001b[0;34m\u001b[0m\u001b[0m\n",
      "\u001b[0;32m~/Dropbox (ASU)/dev/scidash/sciunit/sciunit/tests.py\u001b[0m in \u001b[0;36m_judge\u001b[0;34m(self, model, skip_incapable)\u001b[0m\n\u001b[1;32m    354\u001b[0m \u001b[0;34m\u001b[0m\u001b[0m\n\u001b[1;32m    355\u001b[0m         \u001b[0;31m# 3.\u001b[0m\u001b[0;34m\u001b[0m\u001b[0;34m\u001b[0m\u001b[0;34m\u001b[0m\u001b[0m\n\u001b[0;32m--> 356\u001b[0;31m         \u001b[0mprediction\u001b[0m \u001b[0;34m=\u001b[0m \u001b[0mself\u001b[0m\u001b[0;34m.\u001b[0m\u001b[0mgenerate_prediction\u001b[0m\u001b[0;34m(\u001b[0m\u001b[0mmodel\u001b[0m\u001b[0;34m)\u001b[0m\u001b[0;34m\u001b[0m\u001b[0;34m\u001b[0m\u001b[0m\n\u001b[0m\u001b[1;32m    357\u001b[0m         \u001b[0mself\u001b[0m\u001b[0;34m.\u001b[0m\u001b[0mcheck_prediction\u001b[0m\u001b[0;34m(\u001b[0m\u001b[0mprediction\u001b[0m\u001b[0;34m)\u001b[0m\u001b[0;34m\u001b[0m\u001b[0;34m\u001b[0m\u001b[0m\n\u001b[1;32m    358\u001b[0m         \u001b[0mself\u001b[0m\u001b[0;34m.\u001b[0m\u001b[0mlast_model\u001b[0m \u001b[0;34m=\u001b[0m \u001b[0mmodel\u001b[0m\u001b[0;34m\u001b[0m\u001b[0;34m\u001b[0m\u001b[0m\n",
      "\u001b[0;32m~/Dropbox (ASU)/dev/scidash/neuronunit/neuronunit/tests/fi.py\u001b[0m in \u001b[0;36mgenerate_prediction\u001b[0;34m(self, model)\u001b[0m\n\u001b[1;32m    212\u001b[0m         \u001b[0mprediction\u001b[0m \u001b[0;34m=\u001b[0m \u001b[0;34m{\u001b[0m\u001b[0;34m}\u001b[0m\u001b[0;34m\u001b[0m\u001b[0;34m\u001b[0m\u001b[0m\n\u001b[1;32m    213\u001b[0m \u001b[0;34m\u001b[0m\u001b[0m\n\u001b[0;32m--> 214\u001b[0;31m         \u001b[0mrheobase\u001b[0m \u001b[0;34m=\u001b[0m \u001b[0mfind_rheobase\u001b[0m\u001b[0;34m(\u001b[0m\u001b[0mself\u001b[0m\u001b[0;34m,\u001b[0m \u001b[0mdtc\u001b[0m\u001b[0;34m)\u001b[0m\u001b[0;34m.\u001b[0m\u001b[0mrheobase\u001b[0m\u001b[0;34m\u001b[0m\u001b[0;34m\u001b[0m\u001b[0m\n\u001b[0m\u001b[1;32m    215\u001b[0m         \u001b[0;32mif\u001b[0m \u001b[0mrheobase\u001b[0m \u001b[0;32mis\u001b[0m \u001b[0;32mnot\u001b[0m \u001b[0;32mNone\u001b[0m\u001b[0;34m:\u001b[0m\u001b[0;34m\u001b[0m\u001b[0;34m\u001b[0m\u001b[0m\n\u001b[1;32m    216\u001b[0m             \u001b[0;31m# Something like the below commented line must happen to set the\u001b[0m\u001b[0;34m\u001b[0m\u001b[0;34m\u001b[0m\u001b[0;34m\u001b[0m\u001b[0m\n",
      "\u001b[0;32m~/Dropbox (ASU)/dev/scidash/neuronunit/neuronunit/tests/fi.py\u001b[0m in \u001b[0;36mfind_rheobase\u001b[0;34m(self, dtc)\u001b[0m\n\u001b[1;32m    387\u001b[0m \u001b[0;34m\u001b[0m\u001b[0m\n\u001b[1;32m    388\u001b[0m         \u001b[0mb0\u001b[0m \u001b[0;34m=\u001b[0m \u001b[0mdb\u001b[0m\u001b[0;34m.\u001b[0m\u001b[0mfrom_sequence\u001b[0m\u001b[0;34m(\u001b[0m\u001b[0mdtc_clones\u001b[0m\u001b[0;34m,\u001b[0m \u001b[0mnpartitions\u001b[0m\u001b[0;34m=\u001b[0m\u001b[0mN_CPUS\u001b[0m\u001b[0;34m)\u001b[0m\u001b[0;34m\u001b[0m\u001b[0;34m\u001b[0m\u001b[0m\n\u001b[0;32m--> 389\u001b[0;31m         \u001b[0mdtc_clone\u001b[0m \u001b[0;34m=\u001b[0m \u001b[0mlist\u001b[0m\u001b[0;34m(\u001b[0m\u001b[0mb0\u001b[0m\u001b[0;34m.\u001b[0m\u001b[0mmap\u001b[0m\u001b[0;34m(\u001b[0m\u001b[0mcheck_current\u001b[0m\u001b[0;34m)\u001b[0m\u001b[0;34m.\u001b[0m\u001b[0mcompute\u001b[0m\u001b[0;34m(\u001b[0m\u001b[0;34m)\u001b[0m\u001b[0;34m)\u001b[0m\u001b[0;34m\u001b[0m\u001b[0;34m\u001b[0m\u001b[0m\n\u001b[0m\u001b[1;32m    390\u001b[0m         \u001b[0;32mfor\u001b[0m \u001b[0mdtc\u001b[0m \u001b[0;32min\u001b[0m \u001b[0mdtc_clone\u001b[0m\u001b[0;34m:\u001b[0m\u001b[0;34m\u001b[0m\u001b[0;34m\u001b[0m\u001b[0m\n\u001b[1;32m    391\u001b[0m             \u001b[0;32mif\u001b[0m \u001b[0mdtc\u001b[0m\u001b[0;34m.\u001b[0m\u001b[0mboolean\u001b[0m \u001b[0;32mis\u001b[0m \u001b[0;32mTrue\u001b[0m\u001b[0;34m:\u001b[0m\u001b[0;34m\u001b[0m\u001b[0;34m\u001b[0m\u001b[0m\n",
      "\u001b[0;32m~/miniconda3/lib/python3.8/site-packages/dask/base.py\u001b[0m in \u001b[0;36mcompute\u001b[0;34m(self, **kwargs)\u001b[0m\n\u001b[1;32m    277\u001b[0m         \u001b[0mdask\u001b[0m\u001b[0;34m.\u001b[0m\u001b[0mbase\u001b[0m\u001b[0;34m.\u001b[0m\u001b[0mcompute\u001b[0m\u001b[0;34m\u001b[0m\u001b[0;34m\u001b[0m\u001b[0m\n\u001b[1;32m    278\u001b[0m         \"\"\"\n\u001b[0;32m--> 279\u001b[0;31m         \u001b[0;34m(\u001b[0m\u001b[0mresult\u001b[0m\u001b[0;34m,\u001b[0m\u001b[0;34m)\u001b[0m \u001b[0;34m=\u001b[0m \u001b[0mcompute\u001b[0m\u001b[0;34m(\u001b[0m\u001b[0mself\u001b[0m\u001b[0;34m,\u001b[0m \u001b[0mtraverse\u001b[0m\u001b[0;34m=\u001b[0m\u001b[0;32mFalse\u001b[0m\u001b[0;34m,\u001b[0m \u001b[0;34m**\u001b[0m\u001b[0mkwargs\u001b[0m\u001b[0;34m)\u001b[0m\u001b[0;34m\u001b[0m\u001b[0;34m\u001b[0m\u001b[0m\n\u001b[0m\u001b[1;32m    280\u001b[0m         \u001b[0;32mreturn\u001b[0m \u001b[0mresult\u001b[0m\u001b[0;34m\u001b[0m\u001b[0;34m\u001b[0m\u001b[0m\n\u001b[1;32m    281\u001b[0m \u001b[0;34m\u001b[0m\u001b[0m\n",
      "\u001b[0;32m~/miniconda3/lib/python3.8/site-packages/dask/base.py\u001b[0m in \u001b[0;36mcompute\u001b[0;34m(*args, **kwargs)\u001b[0m\n\u001b[1;32m    565\u001b[0m         \u001b[0mpostcomputes\u001b[0m\u001b[0;34m.\u001b[0m\u001b[0mappend\u001b[0m\u001b[0;34m(\u001b[0m\u001b[0mx\u001b[0m\u001b[0;34m.\u001b[0m\u001b[0m__dask_postcompute__\u001b[0m\u001b[0;34m(\u001b[0m\u001b[0;34m)\u001b[0m\u001b[0;34m)\u001b[0m\u001b[0;34m\u001b[0m\u001b[0;34m\u001b[0m\u001b[0m\n\u001b[1;32m    566\u001b[0m \u001b[0;34m\u001b[0m\u001b[0m\n\u001b[0;32m--> 567\u001b[0;31m     \u001b[0mresults\u001b[0m \u001b[0;34m=\u001b[0m \u001b[0mschedule\u001b[0m\u001b[0;34m(\u001b[0m\u001b[0mdsk\u001b[0m\u001b[0;34m,\u001b[0m \u001b[0mkeys\u001b[0m\u001b[0;34m,\u001b[0m \u001b[0;34m**\u001b[0m\u001b[0mkwargs\u001b[0m\u001b[0;34m)\u001b[0m\u001b[0;34m\u001b[0m\u001b[0;34m\u001b[0m\u001b[0m\n\u001b[0m\u001b[1;32m    568\u001b[0m     \u001b[0;32mreturn\u001b[0m \u001b[0mrepack\u001b[0m\u001b[0;34m(\u001b[0m\u001b[0;34m[\u001b[0m\u001b[0mf\u001b[0m\u001b[0;34m(\u001b[0m\u001b[0mr\u001b[0m\u001b[0;34m,\u001b[0m \u001b[0;34m*\u001b[0m\u001b[0ma\u001b[0m\u001b[0;34m)\u001b[0m \u001b[0;32mfor\u001b[0m \u001b[0mr\u001b[0m\u001b[0;34m,\u001b[0m \u001b[0;34m(\u001b[0m\u001b[0mf\u001b[0m\u001b[0;34m,\u001b[0m \u001b[0ma\u001b[0m\u001b[0;34m)\u001b[0m \u001b[0;32min\u001b[0m \u001b[0mzip\u001b[0m\u001b[0;34m(\u001b[0m\u001b[0mresults\u001b[0m\u001b[0;34m,\u001b[0m \u001b[0mpostcomputes\u001b[0m\u001b[0;34m)\u001b[0m\u001b[0;34m]\u001b[0m\u001b[0;34m)\u001b[0m\u001b[0;34m\u001b[0m\u001b[0;34m\u001b[0m\u001b[0m\n\u001b[1;32m    569\u001b[0m \u001b[0;34m\u001b[0m\u001b[0m\n",
      "\u001b[0;32m~/miniconda3/lib/python3.8/site-packages/dask/multiprocessing.py\u001b[0m in \u001b[0;36mget\u001b[0;34m(dsk, keys, num_workers, func_loads, func_dumps, optimize_graph, pool, **kwargs)\u001b[0m\n\u001b[1;32m    216\u001b[0m     \u001b[0;32mtry\u001b[0m\u001b[0;34m:\u001b[0m\u001b[0;34m\u001b[0m\u001b[0;34m\u001b[0m\u001b[0m\n\u001b[1;32m    217\u001b[0m         \u001b[0;31m# Run\u001b[0m\u001b[0;34m\u001b[0m\u001b[0;34m\u001b[0m\u001b[0;34m\u001b[0m\u001b[0m\n\u001b[0;32m--> 218\u001b[0;31m         result = get_async(\n\u001b[0m\u001b[1;32m    219\u001b[0m             \u001b[0mpool\u001b[0m\u001b[0;34m.\u001b[0m\u001b[0mapply_async\u001b[0m\u001b[0;34m,\u001b[0m\u001b[0;34m\u001b[0m\u001b[0;34m\u001b[0m\u001b[0m\n\u001b[1;32m    220\u001b[0m             \u001b[0mlen\u001b[0m\u001b[0;34m(\u001b[0m\u001b[0mpool\u001b[0m\u001b[0;34m.\u001b[0m\u001b[0m_pool\u001b[0m\u001b[0;34m)\u001b[0m\u001b[0;34m,\u001b[0m\u001b[0;34m\u001b[0m\u001b[0;34m\u001b[0m\u001b[0m\n",
      "\u001b[0;32m~/miniconda3/lib/python3.8/site-packages/dask/local.py\u001b[0m in \u001b[0;36mget_async\u001b[0;34m(apply_async, num_workers, dsk, result, cache, get_id, rerun_exceptions_locally, pack_exception, raise_exception, callbacks, dumps, loads, **kwargs)\u001b[0m\n\u001b[1;32m    473\u001b[0m             \u001b[0;31m# Main loop, wait on tasks to finish, insert new ones\u001b[0m\u001b[0;34m\u001b[0m\u001b[0;34m\u001b[0m\u001b[0;34m\u001b[0m\u001b[0m\n\u001b[1;32m    474\u001b[0m             \u001b[0;32mwhile\u001b[0m \u001b[0mstate\u001b[0m\u001b[0;34m[\u001b[0m\u001b[0;34m\"waiting\"\u001b[0m\u001b[0;34m]\u001b[0m \u001b[0;32mor\u001b[0m \u001b[0mstate\u001b[0m\u001b[0;34m[\u001b[0m\u001b[0;34m\"ready\"\u001b[0m\u001b[0;34m]\u001b[0m \u001b[0;32mor\u001b[0m \u001b[0mstate\u001b[0m\u001b[0;34m[\u001b[0m\u001b[0;34m\"running\"\u001b[0m\u001b[0;34m]\u001b[0m\u001b[0;34m:\u001b[0m\u001b[0;34m\u001b[0m\u001b[0;34m\u001b[0m\u001b[0m\n\u001b[0;32m--> 475\u001b[0;31m                 \u001b[0mkey\u001b[0m\u001b[0;34m,\u001b[0m \u001b[0mres_info\u001b[0m\u001b[0;34m,\u001b[0m \u001b[0mfailed\u001b[0m \u001b[0;34m=\u001b[0m \u001b[0mqueue_get\u001b[0m\u001b[0;34m(\u001b[0m\u001b[0mqueue\u001b[0m\u001b[0;34m)\u001b[0m\u001b[0;34m\u001b[0m\u001b[0;34m\u001b[0m\u001b[0m\n\u001b[0m\u001b[1;32m    476\u001b[0m                 \u001b[0;32mif\u001b[0m \u001b[0mfailed\u001b[0m\u001b[0;34m:\u001b[0m\u001b[0;34m\u001b[0m\u001b[0;34m\u001b[0m\u001b[0m\n\u001b[1;32m    477\u001b[0m                     \u001b[0mexc\u001b[0m\u001b[0;34m,\u001b[0m \u001b[0mtb\u001b[0m \u001b[0;34m=\u001b[0m \u001b[0mloads\u001b[0m\u001b[0;34m(\u001b[0m\u001b[0mres_info\u001b[0m\u001b[0;34m)\u001b[0m\u001b[0;34m\u001b[0m\u001b[0;34m\u001b[0m\u001b[0m\n",
      "\u001b[0;32m~/miniconda3/lib/python3.8/site-packages/dask/local.py\u001b[0m in \u001b[0;36mqueue_get\u001b[0;34m(q)\u001b[0m\n\u001b[1;32m    131\u001b[0m \u001b[0;34m\u001b[0m\u001b[0m\n\u001b[1;32m    132\u001b[0m     \u001b[0;32mdef\u001b[0m \u001b[0mqueue_get\u001b[0m\u001b[0;34m(\u001b[0m\u001b[0mq\u001b[0m\u001b[0;34m)\u001b[0m\u001b[0;34m:\u001b[0m\u001b[0;34m\u001b[0m\u001b[0;34m\u001b[0m\u001b[0m\n\u001b[0;32m--> 133\u001b[0;31m         \u001b[0;32mreturn\u001b[0m \u001b[0mq\u001b[0m\u001b[0;34m.\u001b[0m\u001b[0mget\u001b[0m\u001b[0;34m(\u001b[0m\u001b[0;34m)\u001b[0m\u001b[0;34m\u001b[0m\u001b[0;34m\u001b[0m\u001b[0m\n\u001b[0m\u001b[1;32m    134\u001b[0m \u001b[0;34m\u001b[0m\u001b[0m\n\u001b[1;32m    135\u001b[0m \u001b[0;34m\u001b[0m\u001b[0m\n",
      "\u001b[0;32m~/miniconda3/lib/python3.8/queue.py\u001b[0m in \u001b[0;36mget\u001b[0;34m(self, block, timeout)\u001b[0m\n\u001b[1;32m    168\u001b[0m             \u001b[0;32melif\u001b[0m \u001b[0mtimeout\u001b[0m \u001b[0;32mis\u001b[0m \u001b[0;32mNone\u001b[0m\u001b[0;34m:\u001b[0m\u001b[0;34m\u001b[0m\u001b[0;34m\u001b[0m\u001b[0m\n\u001b[1;32m    169\u001b[0m                 \u001b[0;32mwhile\u001b[0m \u001b[0;32mnot\u001b[0m \u001b[0mself\u001b[0m\u001b[0;34m.\u001b[0m\u001b[0m_qsize\u001b[0m\u001b[0;34m(\u001b[0m\u001b[0;34m)\u001b[0m\u001b[0;34m:\u001b[0m\u001b[0;34m\u001b[0m\u001b[0;34m\u001b[0m\u001b[0m\n\u001b[0;32m--> 170\u001b[0;31m                     \u001b[0mself\u001b[0m\u001b[0;34m.\u001b[0m\u001b[0mnot_empty\u001b[0m\u001b[0;34m.\u001b[0m\u001b[0mwait\u001b[0m\u001b[0;34m(\u001b[0m\u001b[0;34m)\u001b[0m\u001b[0;34m\u001b[0m\u001b[0;34m\u001b[0m\u001b[0m\n\u001b[0m\u001b[1;32m    171\u001b[0m             \u001b[0;32melif\u001b[0m \u001b[0mtimeout\u001b[0m \u001b[0;34m<\u001b[0m \u001b[0;36m0\u001b[0m\u001b[0;34m:\u001b[0m\u001b[0;34m\u001b[0m\u001b[0;34m\u001b[0m\u001b[0m\n\u001b[1;32m    172\u001b[0m                 \u001b[0;32mraise\u001b[0m \u001b[0mValueError\u001b[0m\u001b[0;34m(\u001b[0m\u001b[0;34m\"'timeout' must be a non-negative number\"\u001b[0m\u001b[0;34m)\u001b[0m\u001b[0;34m\u001b[0m\u001b[0;34m\u001b[0m\u001b[0m\n",
      "\u001b[0;32m~/miniconda3/lib/python3.8/threading.py\u001b[0m in \u001b[0;36mwait\u001b[0;34m(self, timeout)\u001b[0m\n\u001b[1;32m    300\u001b[0m         \u001b[0;32mtry\u001b[0m\u001b[0;34m:\u001b[0m    \u001b[0;31m# restore state no matter what (e.g., KeyboardInterrupt)\u001b[0m\u001b[0;34m\u001b[0m\u001b[0;34m\u001b[0m\u001b[0m\n\u001b[1;32m    301\u001b[0m             \u001b[0;32mif\u001b[0m \u001b[0mtimeout\u001b[0m \u001b[0;32mis\u001b[0m \u001b[0;32mNone\u001b[0m\u001b[0;34m:\u001b[0m\u001b[0;34m\u001b[0m\u001b[0;34m\u001b[0m\u001b[0m\n\u001b[0;32m--> 302\u001b[0;31m                 \u001b[0mwaiter\u001b[0m\u001b[0;34m.\u001b[0m\u001b[0macquire\u001b[0m\u001b[0;34m(\u001b[0m\u001b[0;34m)\u001b[0m\u001b[0;34m\u001b[0m\u001b[0;34m\u001b[0m\u001b[0m\n\u001b[0m\u001b[1;32m    303\u001b[0m                 \u001b[0mgotit\u001b[0m \u001b[0;34m=\u001b[0m \u001b[0;32mTrue\u001b[0m\u001b[0;34m\u001b[0m\u001b[0;34m\u001b[0m\u001b[0m\n\u001b[1;32m    304\u001b[0m             \u001b[0;32melse\u001b[0m\u001b[0;34m:\u001b[0m\u001b[0;34m\u001b[0m\u001b[0;34m\u001b[0m\u001b[0m\n",
      "\u001b[0;31mKeyboardInterrupt\u001b[0m: "
     ]
    }
   ],
   "source": [
    "test.judge(model)"
   ]
  },
  {
   "cell_type": "code",
   "execution_count": 17,
   "metadata": {},
   "outputs": [],
   "source": [
    "import quantities as pq\n",
    "from types import MethodType\n",
    "from neuronunit.tests.passive import InputResistanceTest as IRT\n",
    "from sciunit.scores import RelativeDifferenceScore\n",
    "t1 = IRT(100*IRT.units)\n",
    "t1.score_type = RelativeDifferenceScore"
   ]
  },
  {
   "cell_type": "code",
   "execution_count": 6,
   "metadata": {},
   "outputs": [
    {
     "data": {
      "text/plain": [
       "[2, 3]"
      ]
     },
     "execution_count": 6,
     "metadata": {},
     "output_type": "execute_result"
    }
   ],
   "source": [
    "pq.oh"
   ]
  },
  {
   "cell_type": "code",
   "execution_count": 5,
   "metadata": {},
   "outputs": [
    {
     "ename": "AssertionError",
     "evalue": "",
     "output_type": "error",
     "traceback": [
      "\u001b[0;31m---------------------------------------------------------------------------\u001b[0m",
      "\u001b[0;31mAssertionError\u001b[0m                            Traceback (most recent call last)",
      "\u001b[0;32m<ipython-input-5-de315e59b255>\u001b[0m in \u001b[0;36m<module>\u001b[0;34m\u001b[0m\n\u001b[0;32m----> 1\u001b[0;31m \u001b[0msm\u001b[0m \u001b[0;34m=\u001b[0m \u001b[0mts\u001b[0m\u001b[0;34m.\u001b[0m\u001b[0mjudge\u001b[0m\u001b[0;34m(\u001b[0m\u001b[0;34m[\u001b[0m\u001b[0mm1\u001b[0m\u001b[0;34m,\u001b[0m \u001b[0mm2\u001b[0m\u001b[0;34m]\u001b[0m\u001b[0;34m)\u001b[0m  \u001b[0;31m# Create the ScoreMatrix by judging the TestSuite\u001b[0m\u001b[0;34m\u001b[0m\u001b[0;34m\u001b[0m\u001b[0m\n\u001b[0m",
      "\u001b[0;32m~/Dropbox (ASU)/dev/scidash/sciunit/sciunit/suites.py\u001b[0m in \u001b[0;36mjudge\u001b[0;34m(self, models, skip_incapable, stop_on_error, deep_error)\u001b[0m\n\u001b[1;32m    191\u001b[0m         \u001b[0;32mfor\u001b[0m \u001b[0mmodel\u001b[0m \u001b[0;32min\u001b[0m \u001b[0mmodels\u001b[0m\u001b[0;34m:\u001b[0m\u001b[0;34m\u001b[0m\u001b[0;34m\u001b[0m\u001b[0m\n\u001b[1;32m    192\u001b[0m             \u001b[0;32mfor\u001b[0m \u001b[0mtest\u001b[0m \u001b[0;32min\u001b[0m \u001b[0mself\u001b[0m\u001b[0;34m.\u001b[0m\u001b[0mtests\u001b[0m\u001b[0;34m:\u001b[0m\u001b[0;34m\u001b[0m\u001b[0;34m\u001b[0m\u001b[0m\n\u001b[0;32m--> 193\u001b[0;31m                 score = self.judge_one(model, test, sm, skip_incapable,\n\u001b[0m\u001b[1;32m    194\u001b[0m                                        stop_on_error, deep_error)\n\u001b[1;32m    195\u001b[0m                 \u001b[0mself\u001b[0m\u001b[0;34m.\u001b[0m\u001b[0mset_hooks\u001b[0m\u001b[0;34m(\u001b[0m\u001b[0mtest\u001b[0m\u001b[0;34m,\u001b[0m \u001b[0mscore\u001b[0m\u001b[0;34m)\u001b[0m\u001b[0;34m\u001b[0m\u001b[0;34m\u001b[0m\u001b[0m\n",
      "\u001b[0;32m~/Dropbox (ASU)/dev/scidash/sciunit/sciunit/suites.py\u001b[0m in \u001b[0;36mjudge_one\u001b[0;34m(self, model, test, sm, skip_incapable, stop_on_error, deep_error)\u001b[0m\n\u001b[1;32m    225\u001b[0m             log('Executing test <i>%s</i> on model <i>%s</i>' % (test, model),\n\u001b[1;32m    226\u001b[0m                 end=u\"... \")\n\u001b[0;32m--> 227\u001b[0;31m             score = test.judge(model, skip_incapable=skip_incapable,\n\u001b[0m\u001b[1;32m    228\u001b[0m                                \u001b[0mstop_on_error\u001b[0m\u001b[0;34m=\u001b[0m\u001b[0mstop_on_error\u001b[0m\u001b[0;34m,\u001b[0m\u001b[0;34m\u001b[0m\u001b[0;34m\u001b[0m\u001b[0m\n\u001b[1;32m    229\u001b[0m                                deep_error=deep_error)\n",
      "\u001b[0;32m~/Dropbox (ASU)/dev/scidash/sciunit/sciunit/tests.py\u001b[0m in \u001b[0;36mjudge\u001b[0;34m(self, model, skip_incapable, stop_on_error, deep_error)\u001b[0m\n\u001b[1;32m    434\u001b[0m                 \u001b[0mscore\u001b[0m\u001b[0;34m.\u001b[0m\u001b[0mtest\u001b[0m \u001b[0;34m=\u001b[0m \u001b[0mself\u001b[0m\u001b[0;34m\u001b[0m\u001b[0;34m\u001b[0m\u001b[0m\n\u001b[1;32m    435\u001b[0m         \u001b[0;32mif\u001b[0m \u001b[0misinstance\u001b[0m\u001b[0;34m(\u001b[0m\u001b[0mscore\u001b[0m\u001b[0;34m,\u001b[0m \u001b[0mErrorScore\u001b[0m\u001b[0;34m)\u001b[0m \u001b[0;32mand\u001b[0m \u001b[0mstop_on_error\u001b[0m\u001b[0;34m:\u001b[0m\u001b[0;34m\u001b[0m\u001b[0;34m\u001b[0m\u001b[0m\n\u001b[0;32m--> 436\u001b[0;31m             \u001b[0;32mraise\u001b[0m \u001b[0mscore\u001b[0m\u001b[0;34m.\u001b[0m\u001b[0mscore\u001b[0m  \u001b[0;31m# An exception.\u001b[0m\u001b[0;34m\u001b[0m\u001b[0;34m\u001b[0m\u001b[0m\n\u001b[0m\u001b[1;32m    437\u001b[0m         \u001b[0;32mreturn\u001b[0m \u001b[0mscore\u001b[0m\u001b[0;34m\u001b[0m\u001b[0;34m\u001b[0m\u001b[0m\n\u001b[1;32m    438\u001b[0m \u001b[0;34m\u001b[0m\u001b[0m\n",
      "\u001b[0;32m~/Dropbox (ASU)/dev/scidash/sciunit/sciunit/tests.py\u001b[0m in \u001b[0;36mjudge\u001b[0;34m(self, model, skip_incapable, stop_on_error, deep_error)\u001b[0m\n\u001b[1;32m    423\u001b[0m         \u001b[0;32melse\u001b[0m\u001b[0;34m:\u001b[0m\u001b[0;34m\u001b[0m\u001b[0;34m\u001b[0m\u001b[0m\n\u001b[1;32m    424\u001b[0m             \u001b[0;32mtry\u001b[0m\u001b[0;34m:\u001b[0m\u001b[0;34m\u001b[0m\u001b[0;34m\u001b[0m\u001b[0m\n\u001b[0;32m--> 425\u001b[0;31m                 \u001b[0mscore\u001b[0m \u001b[0;34m=\u001b[0m \u001b[0mself\u001b[0m\u001b[0;34m.\u001b[0m\u001b[0m_judge\u001b[0m\u001b[0;34m(\u001b[0m\u001b[0mmodel\u001b[0m\u001b[0;34m,\u001b[0m \u001b[0mskip_incapable\u001b[0m\u001b[0;34m=\u001b[0m\u001b[0mskip_incapable\u001b[0m\u001b[0;34m)\u001b[0m\u001b[0;34m\u001b[0m\u001b[0;34m\u001b[0m\u001b[0m\n\u001b[0m\u001b[1;32m    426\u001b[0m             \u001b[0;32mexcept\u001b[0m \u001b[0mCapabilityError\u001b[0m \u001b[0;32mas\u001b[0m \u001b[0me\u001b[0m\u001b[0;34m:\u001b[0m\u001b[0;34m\u001b[0m\u001b[0;34m\u001b[0m\u001b[0m\n\u001b[1;32m    427\u001b[0m                 \u001b[0mscore\u001b[0m \u001b[0;34m=\u001b[0m \u001b[0mNAScore\u001b[0m\u001b[0;34m(\u001b[0m\u001b[0mstr\u001b[0m\u001b[0;34m(\u001b[0m\u001b[0me\u001b[0m\u001b[0;34m)\u001b[0m\u001b[0;34m)\u001b[0m\u001b[0;34m\u001b[0m\u001b[0;34m\u001b[0m\u001b[0m\n",
      "\u001b[0;32m~/Dropbox (ASU)/dev/scidash/sciunit/sciunit/tests.py\u001b[0m in \u001b[0;36m_judge\u001b[0;34m(self, model, skip_incapable)\u001b[0m\n\u001b[1;32m    359\u001b[0m \u001b[0;34m\u001b[0m\u001b[0m\n\u001b[1;32m    360\u001b[0m         \u001b[0;31m# 4.\u001b[0m\u001b[0;34m\u001b[0m\u001b[0;34m\u001b[0m\u001b[0;34m\u001b[0m\u001b[0m\n\u001b[0;32m--> 361\u001b[0;31m         \u001b[0mscore\u001b[0m \u001b[0;34m=\u001b[0m \u001b[0mself\u001b[0m\u001b[0;34m.\u001b[0m\u001b[0mcompute_score\u001b[0m\u001b[0;34m(\u001b[0m\u001b[0mself\u001b[0m\u001b[0;34m.\u001b[0m\u001b[0mobservation\u001b[0m\u001b[0;34m,\u001b[0m \u001b[0mprediction\u001b[0m\u001b[0;34m)\u001b[0m\u001b[0;34m\u001b[0m\u001b[0;34m\u001b[0m\u001b[0m\n\u001b[0m\u001b[1;32m    362\u001b[0m \u001b[0;34m\u001b[0m\u001b[0m\n\u001b[1;32m    363\u001b[0m         \u001b[0;32mif\u001b[0m \u001b[0mself\u001b[0m\u001b[0;34m.\u001b[0m\u001b[0mconverter\u001b[0m\u001b[0;34m:\u001b[0m\u001b[0;34m\u001b[0m\u001b[0;34m\u001b[0m\u001b[0m\n",
      "\u001b[0;32m~/Dropbox (ASU)/dev/scidash/sciunit/sciunit/scores/complete.py\u001b[0m in \u001b[0;36mcompute\u001b[0;34m(cls, observation, prediction, scale)\u001b[0m\n\u001b[1;32m    248\u001b[0m             \u001b[0mRelativeDifferenceScore\u001b[0m\u001b[0;34m:\u001b[0m \u001b[0mA\u001b[0m \u001b[0mrelative\u001b[0m \u001b[0mdifference\u001b[0m \u001b[0mbetween\u001b[0m \u001b[0man\u001b[0m \u001b[0mobservation\u001b[0m \u001b[0;32mand\u001b[0m \u001b[0ma\u001b[0m \u001b[0mprediction\u001b[0m\u001b[0;34m.\u001b[0m\u001b[0;34m\u001b[0m\u001b[0;34m\u001b[0m\u001b[0m\n\u001b[1;32m    249\u001b[0m         \"\"\"\n\u001b[0;32m--> 250\u001b[0;31m         \u001b[0;32massert\u001b[0m \u001b[0misinstance\u001b[0m\u001b[0;34m(\u001b[0m\u001b[0mobservation\u001b[0m\u001b[0;34m,\u001b[0m \u001b[0;34m(\u001b[0m\u001b[0mfloat\u001b[0m\u001b[0;34m,\u001b[0m \u001b[0mint\u001b[0m\u001b[0;34m,\u001b[0m \u001b[0mpq\u001b[0m\u001b[0;34m.\u001b[0m\u001b[0mQuantity\u001b[0m\u001b[0;34m)\u001b[0m\u001b[0;34m)\u001b[0m\u001b[0;34m\u001b[0m\u001b[0;34m\u001b[0m\u001b[0m\n\u001b[0m\u001b[1;32m    251\u001b[0m         \u001b[0;32massert\u001b[0m \u001b[0misinstance\u001b[0m\u001b[0;34m(\u001b[0m\u001b[0mprediction\u001b[0m\u001b[0;34m,\u001b[0m \u001b[0;34m(\u001b[0m\u001b[0mfloat\u001b[0m\u001b[0;34m,\u001b[0m \u001b[0mint\u001b[0m\u001b[0;34m,\u001b[0m \u001b[0mpq\u001b[0m\u001b[0;34m.\u001b[0m\u001b[0mQuantity\u001b[0m\u001b[0;34m)\u001b[0m\u001b[0;34m)\u001b[0m\u001b[0;34m\u001b[0m\u001b[0;34m\u001b[0m\u001b[0m\n\u001b[1;32m    252\u001b[0m \u001b[0;34m\u001b[0m\u001b[0m\n",
      "\u001b[0;31mAssertionError\u001b[0m: "
     ]
    }
   ],
   "source": [
    "sm = ts.judge([m1, m2])  # Create the ScoreMatrix by judging the TestSuite"
   ]
  },
  {
   "cell_type": "code",
   "execution_count": 9,
   "metadata": {},
   "outputs": [
    {
     "data": {
      "text/plain": [
       "'{\"name\": \"test1\", \"description\": \"Test if the model generates a number within a certain range\", \"params\": {}, \"verbose\": 1, \"observation\": [2, 3], \"unpicklable\": []}'"
      ]
     },
     "execution_count": 9,
     "metadata": {},
     "output_type": "execute_result"
    }
   ],
   "source": [
    "t1.json()"
   ]
  },
  {
   "cell_type": "code",
   "execution_count": 83,
   "metadata": {},
   "outputs": [],
   "source": [
    "class NewScoreArray(ScoreArray):\n",
    "    def _constructor(self, scores=None, models_or_tests=[]):\n",
    "        return NewScoreArray(models_or_tests, scores=scores)\n",
    "    \n",
    "    @property\n",
    "    def name(self):\n",
    "        return str(self._name)\n",
    "    \n",
    "    @name.setter\n",
    "    def name(self, x):\n",
    "        self._name = x\n",
    "    \n",
    "class NewScoreMatrix(ScoreMatrix):\n",
    "    def _constructor(self, scores=None, models=[], tests=[]):\n",
    "        return NewScoreMatrix(tests, models, scores=scores)\n",
    "    \n",
    "    def get_test(self, test):\n",
    "        return NewScoreArray(self.models,\n",
    "                          scores=pd.DataFrame.__getitem__(self, test),\n",
    "                          weights=self.weights)\n",
    "\n",
    "    def get_model(self, model):\n",
    "        return NewScoreArray(self.tests,\n",
    "                          scores=self.loc[model, :],\n",
    "                          weights=self.weights)    \n",
    "\n",
    "nsm = NewScoreMatrix([t1, t2], [m1, m2])"
   ]
  },
  {
   "cell_type": "code",
   "execution_count": 85,
   "metadata": {},
   "outputs": [
    {
     "data": {
      "text/plain": [
       "'test1'"
      ]
     },
     "execution_count": 85,
     "metadata": {},
     "output_type": "execute_result"
    }
   ],
   "source": [
    "nsm[t1].name"
   ]
  },
  {
   "cell_type": "code",
   "execution_count": 2,
   "metadata": {},
   "outputs": [
    {
     "data": {
      "application/vnd.jupyter.widget-view+json": {
       "model_id": "3b6c8bbba4934b1f995ef676abbc591d",
       "version_major": 2,
       "version_minor": 0
      },
      "text/plain": [
       "QgridWidget(grid_options={'fullWidthRows': True, 'syncColumnCellResize': True, 'forceFitColumns': True, 'defau…"
      ]
     },
     "metadata": {},
     "output_type": "display_data"
    }
   ],
   "source": [
    "import qgrid\n",
    "qgrid_widget = qgrid.show_grid(nsm, show_toolbar=True)\n",
    "qgrid_widget"
   ]
  },
  {
   "cell_type": "code",
   "execution_count": 3,
   "metadata": {},
   "outputs": [
    {
     "data": {
      "application/vnd.jupyter.widget-view+json": {
       "model_id": "3fc30011ec6646d290021bcaf167a10c",
       "version_major": 2,
       "version_minor": 0
      },
      "text/plain": [
       "QgridWidget(grid_options={'fullWidthRows': True, 'syncColumnCellResize': True, 'forceFitColumns': True, 'defau…"
      ]
     },
     "metadata": {},
     "output_type": "display_data"
    }
   ],
   "source": [
    "qgrid_widget"
   ]
  },
  {
   "cell_type": "code",
   "execution_count": 3,
   "metadata": {},
   "outputs": [
    {
     "data": {
      "text/html": [
       "<div>\n",
       "<style scoped>\n",
       "    .dataframe tbody tr th:only-of-type {\n",
       "        vertical-align: middle;\n",
       "    }\n",
       "\n",
       "    .dataframe tbody tr th {\n",
       "        vertical-align: top;\n",
       "    }\n",
       "\n",
       "    .dataframe thead th {\n",
       "        text-align: right;\n",
       "    }\n",
       "</style>\n",
       "<table border=\"1\" class=\"dataframe\">\n",
       "  <thead>\n",
       "    <tr style=\"text-align: right;\">\n",
       "      <th></th>\n",
       "      <th>test1</th>\n",
       "      <th>RangeTest</th>\n",
       "    </tr>\n",
       "  </thead>\n",
       "  <tbody>\n",
       "    <tr>\n",
       "      <th>UniformModel</th>\n",
       "      <td>&lt;class 'sciunit.scores.incomplete.NoneScore'&gt;</td>\n",
       "      <td>&lt;class 'sciunit.scores.incomplete.NoneScore'&gt;</td>\n",
       "    </tr>\n",
       "    <tr>\n",
       "      <th>UniformModel</th>\n",
       "      <td>&lt;class 'sciunit.scores.incomplete.NoneScore'&gt;</td>\n",
       "      <td>&lt;class 'sciunit.scores.incomplete.NoneScore'&gt;</td>\n",
       "    </tr>\n",
       "  </tbody>\n",
       "</table>\n",
       "</div>"
      ],
      "text/plain": [
       "                                                      test1  \\\n",
       "UniformModel  <class 'sciunit.scores.incomplete.NoneScore'>   \n",
       "UniformModel  <class 'sciunit.scores.incomplete.NoneScore'>   \n",
       "\n",
       "                                                  RangeTest  \n",
       "UniformModel  <class 'sciunit.scores.incomplete.NoneScore'>  \n",
       "UniformModel  <class 'sciunit.scores.incomplete.NoneScore'>  "
      ]
     },
     "execution_count": 3,
     "metadata": {},
     "output_type": "execute_result"
    }
   ],
   "source": [
    "nsm"
   ]
  },
  {
   "cell_type": "code",
   "execution_count": null,
   "metadata": {},
   "outputs": [],
   "source": []
  },
  {
   "cell_type": "code",
   "execution_count": null,
   "metadata": {},
   "outputs": [],
   "source": []
  },
  {
   "cell_type": "code",
   "execution_count": null,
   "metadata": {},
   "outputs": [],
   "source": []
  },
  {
   "cell_type": "code",
   "execution_count": null,
   "metadata": {},
   "outputs": [],
   "source": []
  },
  {
   "cell_type": "code",
   "execution_count": null,
   "metadata": {},
   "outputs": [],
   "source": []
  },
  {
   "cell_type": "code",
   "execution_count": null,
   "metadata": {},
   "outputs": [],
   "source": []
  },
  {
   "cell_type": "code",
   "execution_count": null,
   "metadata": {},
   "outputs": [],
   "source": []
  },
  {
   "cell_type": "code",
   "execution_count": null,
   "metadata": {},
   "outputs": [],
   "source": []
  }
 ],
 "metadata": {
  "kernelspec": {
   "display_name": "Python 3",
   "language": "python",
   "name": "python3"
  },
  "language_info": {
   "codemirror_mode": {
    "name": "ipython",
    "version": 3
   },
   "file_extension": ".py",
   "mimetype": "text/x-python",
   "name": "python",
   "nbconvert_exporter": "python",
   "pygments_lexer": "ipython3",
   "version": "3.9.4"
  }
 },
 "nbformat": 4,
 "nbformat_minor": 4
}
